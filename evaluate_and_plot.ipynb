{
 "cells": [
  {
   "cell_type": "markdown",
   "id": "436fb486",
   "metadata": {},
   "source": [
    "This script is for testing given test data, calculate acc pre spe f1 and plot confusion matrix, roc and t-sne."
   ]
  },
  {
   "cell_type": "code",
   "execution_count": null,
   "id": "8b677782",
   "metadata": {},
   "outputs": [],
   "source": [
    "import numpy as np\n",
    "import pandas as pd\n",
    "import matplotlib.pyplot as plt\n",
    "import joblib\n",
    "from PIL import Image\n",
    "import os\n",
    "from sklearn.manifold import TSNE\n",
    "\n",
    "import torch\n",
    "import torch.nn as nn\n",
    "from torch.autograd import Variable\n",
    "import torchvision\n",
    "from torch.utils.data import Dataset, DataLoader\n",
    "from torch.optim.lr_scheduler import CosineAnnealingLR, StepLR\n",
    "import torch.nn.functional as F\n",
    "\n",
    "from utils.dataload import Mydataset\n",
    "from nets.threed_resnet import resnet18 as threed_resnet18\n",
    "from nets.twod_resnet import resnet18 as twod_resnet18\n",
    "\n",
    "from utils.evaluationmetrics import accuracy, roc, presenf1cfsmtx"
   ]
  },
  {
   "cell_type": "code",
   "execution_count": null,
   "id": "d77a85f0",
   "metadata": {},
   "outputs": [],
   "source": [
    "model = torch.load('checkpoints/checkpoint1.pt')\n",
    "device = torch.device('cuda:0')\n",
    "model.to(device)\n",
    "datapath = 'CoordConv_'\n",
    "\n",
    "\n",
    "testdataset = Mydataset(split='fold1test', position='膝下段', path='CoordConv_')\n",
    "testdataloader = DataLoader(testdataset, batch_size=2048, drop_last= False, shuffle = False)\n"
   ]
  },
  {
   "cell_type": "markdown",
   "id": "93f350c9",
   "metadata": {},
   "source": [
    "# acc rec pre f1 confusion matrix"
   ]
  },
  {
   "cell_type": "code",
   "execution_count": null,
   "id": "cd2c304c",
   "metadata": {},
   "outputs": [],
   "source": [
    "\n",
    "acc = accuracy(model, testdataloader)\n",
    "precision, recall, f1, truelist, predlist, cfsmtx = presenf1cfsmtx(model, testdataloader)\n",
    "\n",
    "plt.title('CoordConv on above-knee arteries')\n",
    "tick_marks = np.arange(4)\n",
    "classes = ['0', '1', '2', '3',]\n",
    "arange = 4\n",
    "plt.imshow(cfsmtx, interpolation='nearest', cmap=plt.cm.Blues)\n",
    "iters = np.reshape([[[i, j] for j in range(arange)] for i in range(arange)], (cfsmtx.size, 2))\n",
    "for i, j in iters:\n",
    "    plt.text(j, i, format(cfsmtx[i, j]), va='center', ha='center')\n",
    "\n",
    "print('accuracy', acc, 'precision', precision, 'recall', recall, 'f1', f1)\n",
    "plt.plot()\n"
   ]
  },
  {
   "cell_type": "markdown",
   "id": "fb030059",
   "metadata": {},
   "source": [
    "# roc"
   ]
  },
  {
   "cell_type": "code",
   "execution_count": null,
   "id": "cede3f48",
   "metadata": {},
   "outputs": [],
   "source": [
    "fpr, tpr, auc = roc(model, testdataloader)\n",
    "\n",
    "plt.plot(fpr[\"micro\"], tpr[\"micro\"] ,label='coord aware noise robust net, AUC ' + str(round(100*auc[\"micro\"],2)))\n",
    "plt.title('ROC curves of different methods on above-knee arteries')\n",
    "plt.legend()\n",
    "plt.plot()"
   ]
  },
  {
   "cell_type": "markdown",
   "id": "ca97cc3c",
   "metadata": {},
   "source": [
    "# t-sne"
   ]
  },
  {
   "cell_type": "code",
   "execution_count": null,
   "id": "d68751f7",
   "metadata": {},
   "outputs": [],
   "source": [
    "model.fc = nn.Sequential()\n",
    "img, label, _ = next(iter(testdataloader))\n",
    "img = img.to(device)\n",
    "a = model(img)\n",
    "\n",
    "\n",
    "anp = a.detach().cpu().numpy()\n",
    "labellist = label.tolist()\n",
    "\n",
    "\n",
    "tsne = TSNE(n_components=2, init='pca', random_state=0)\n",
    "result = tsne.fit_transform(anp)\n",
    "\n",
    "colormap = ['red', 'green', 'blue', 'darkviolet', 'yellow', 'coral', 'dimgrey', 'pink', 'beige', 'lightsteelblue', 'maroon', 'olive']\n",
    "colorlist = []\n",
    "for i in labellist:\n",
    "    colorlist.append(colormap[i])\n",
    "\n",
    "plt.scatter(result[:, 0], result[:, 1], c=colorlist)\n",
    "plt.xticks([])\n",
    "plt.yticks([])\n",
    "plt.title('Coord-Aware 3D Neural Network on Above-knee arteries')"
   ]
  }
 ],
 "metadata": {
  "kernelspec": {
   "display_name": "Python 3 (ipykernel)",
   "language": "python",
   "name": "python3"
  }
 },
 "nbformat": 4,
 "nbformat_minor": 5
}
